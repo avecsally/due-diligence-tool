{
 "cells": [
  {
   "cell_type": "markdown",
   "metadata": {},
   "source": [
    "### Step1: Web scrapping"
   ]
  },
  {
   "cell_type": "code",
   "execution_count": 1,
   "metadata": {},
   "outputs": [],
   "source": [
    "#!pip3 install newspaper3k\n",
    "#!pip install --upgrade pip"
   ]
  },
  {
   "cell_type": "markdown",
   "metadata": {},
   "source": [
    "##### web scraping "
   ]
  },
  {
   "cell_type": "code",
   "execution_count": 2,
   "metadata": {},
   "outputs": [
    {
     "name": "stdout",
     "output_type": "stream",
     "text": [
      "BuzzFeed and the International Consortium of Investigative Journalists, which collaborated on the project, did not make public many of the actual suspicious activity reports that they obtained. In a statement this month, FinCEN warned that “the unauthorized disclosure of SARs is a crime that can impact the national security of the United States, compromise law enforcement investigations, and threaten the safety and security of the institutions and individuals who file such reports.”\n",
      "\n",
      "Among BuzzFeed’s main findings were that Standard Chartered, which operates primarily in Asia, the Middle East and Africa, appears to have helped move funds on behalf of a Dubai-based company that reportedly had ties to the Taliban. JPMorgan, Bank of New York Mellon and other banks appear to have helped move more than $150 million for companies tied to the North Korean regime, according to a companion report by NBC News.\n",
      "\n",
      "As of late 2013, officials at JPMorgan Chase had also submitted at least eight suspicious activity reports on banking activity connected to Paul Manafort, President Trump’s 2016 campaign chairman. JPMorgan also moved more than $1 billion for the alleged mastermind of a giant fraud involving a Malaysian sovereign wealth fund.\n",
      "\n",
      "In one suspicious activity report obtained by BuzzFeed, Bank of America officials in early 2016 warned the federal government about their serious concerns about how Deutsche Bank was failing to detect and prevent money laundering. Deutsche Bank has been among the world’s most heavily penalized banks, in part for its work laundering money for wealthy Russians.\n",
      "\n",
      "Patricia Wexler, a JPMorgan spokeswoman, said: “We have played a leadership role in anti-money-laundering reform that will modernize how the government and law enforcement combat money laundering, terrorism financing and other financial crimes.”\n"
     ]
    }
   ],
   "source": [
    "import newspaper\n",
    "url =  'https://www.nytimes.com/2020/09/20/business/fincen-banks-suspicious-activity-reports-buzzfeed.html'\n",
    "a = newspaper.Article(url)\n",
    "a.download()\n",
    "a.parse()\n",
    "print(a.text)"
   ]
  },
  {
   "cell_type": "code",
   "execution_count": 3,
   "metadata": {},
   "outputs": [
    {
     "name": "stdout",
     "output_type": "stream",
     "text": [
      "<class 'str'>\n"
     ]
    }
   ],
   "source": [
    "print(type(a.text))"
   ]
  },
  {
   "cell_type": "code",
   "execution_count": 4,
   "metadata": {},
   "outputs": [],
   "source": [
    "#lower the text\n",
    "a.text=a.text.lower()"
   ]
  },
  {
   "cell_type": "code",
   "execution_count": 5,
   "metadata": {},
   "outputs": [],
   "source": [
    "#remove punctuation\n",
    "from nltk.tokenize import RegexpTokenizer\n",
    "tokenizer = RegexpTokenizer(r'\\w+')\n",
    "text=tokenizer.tokenize(a.text)"
   ]
  },
  {
   "cell_type": "code",
   "execution_count": 6,
   "metadata": {},
   "outputs": [
    {
     "name": "stdout",
     "output_type": "stream",
     "text": [
      "['buzzfeed', 'and', 'the', 'international', 'consortium', 'of', 'investigative', 'journalists', 'which', 'collaborated', 'on', 'the', 'project', 'did', 'not', 'make', 'public', 'many', 'of', 'the', 'actual', 'suspicious', 'activity', 'reports', 'that', 'they', 'obtained', 'in', 'a', 'statement', 'this', 'month', 'fincen', 'warned', 'that', 'the', 'unauthorized', 'disclosure', 'of', 'sars', 'is', 'a', 'crime', 'that', 'can', 'impact', 'the', 'national', 'security', 'of', 'the', 'united', 'states', 'compromise', 'law', 'enforcement', 'investigations', 'and', 'threaten', 'the', 'safety', 'and', 'security', 'of', 'the', 'institutions', 'and', 'individuals', 'who', 'file', 'such', 'reports', 'among', 'buzzfeed', 's', 'main', 'findings', 'were', 'that', 'standard', 'chartered', 'which', 'operates', 'primarily', 'in', 'asia', 'the', 'middle', 'east', 'and', 'africa', 'appears', 'to', 'have', 'helped', 'move', 'funds', 'on', 'behalf', 'of', 'a', 'dubai', 'based', 'company', 'that', 'reportedly', 'had', 'ties', 'to', 'the', 'taliban', 'jpmorgan', 'bank', 'of', 'new', 'york', 'mellon', 'and', 'other', 'banks', 'appear', 'to', 'have', 'helped', 'move', 'more', 'than', '150', 'million', 'for', 'companies', 'tied', 'to', 'the', 'north', 'korean', 'regime', 'according', 'to', 'a', 'companion', 'report', 'by', 'nbc', 'news', 'as', 'of', 'late', '2013', 'officials', 'at', 'jpmorgan', 'chase', 'had', 'also', 'submitted', 'at', 'least', 'eight', 'suspicious', 'activity', 'reports', 'on', 'banking', 'activity', 'connected', 'to', 'paul', 'manafort', 'president', 'trump', 's', '2016', 'campaign', 'chairman', 'jpmorgan', 'also', 'moved', 'more', 'than', '1', 'billion', 'for', 'the', 'alleged', 'mastermind', 'of', 'a', 'giant', 'fraud', 'involving', 'a', 'malaysian', 'sovereign', 'wealth', 'fund', 'in', 'one', 'suspicious', 'activity', 'report', 'obtained', 'by', 'buzzfeed', 'bank', 'of', 'america', 'officials', 'in', 'early', '2016', 'warned', 'the', 'federal', 'government', 'about', 'their', 'serious', 'concerns', 'about', 'how', 'deutsche', 'bank', 'was', 'failing', 'to', 'detect', 'and', 'prevent', 'money', 'laundering', 'deutsche', 'bank', 'has', 'been', 'among', 'the', 'world', 's', 'most', 'heavily', 'penalized', 'banks', 'in', 'part', 'for', 'its', 'work', 'laundering', 'money', 'for', 'wealthy', 'russians', 'patricia', 'wexler', 'a', 'jpmorgan', 'spokeswoman', 'said', 'we', 'have', 'played', 'a', 'leadership', 'role', 'in', 'anti', 'money', 'laundering', 'reform', 'that', 'will', 'modernize', 'how', 'the', 'government', 'and', 'law', 'enforcement', 'combat', 'money', 'laundering', 'terrorism', 'financing', 'and', 'other', 'financial', 'crimes']\n"
     ]
    }
   ],
   "source": [
    "print(text)"
   ]
  },
  {
   "cell_type": "markdown",
   "metadata": {},
   "source": [
    "### Step2: Stopword hit"
   ]
  },
  {
   "cell_type": "code",
   "execution_count": 7,
   "metadata": {},
   "outputs": [
    {
     "data": {
      "text/html": [
       "<div>\n",
       "<style scoped>\n",
       "    .dataframe tbody tr th:only-of-type {\n",
       "        vertical-align: middle;\n",
       "    }\n",
       "\n",
       "    .dataframe tbody tr th {\n",
       "        vertical-align: top;\n",
       "    }\n",
       "\n",
       "    .dataframe thead th {\n",
       "        text-align: right;\n",
       "    }\n",
       "</style>\n",
       "<table border=\"1\" class=\"dataframe\">\n",
       "  <thead>\n",
       "    <tr style=\"text-align: right;\">\n",
       "      <th></th>\n",
       "      <th>Sanctions terms</th>\n",
       "      <th>Financial Crimes words</th>\n",
       "    </tr>\n",
       "  </thead>\n",
       "  <tbody>\n",
       "    <tr>\n",
       "      <th>0</th>\n",
       "      <td>sanctions</td>\n",
       "      <td>financial</td>\n",
       "    </tr>\n",
       "    <tr>\n",
       "      <th>1</th>\n",
       "      <td>embargo</td>\n",
       "      <td>finance</td>\n",
       "    </tr>\n",
       "    <tr>\n",
       "      <th>2</th>\n",
       "      <td>war crimes</td>\n",
       "      <td>crime</td>\n",
       "    </tr>\n",
       "    <tr>\n",
       "      <th>3</th>\n",
       "      <td>terrorist</td>\n",
       "      <td>money laundering</td>\n",
       "    </tr>\n",
       "    <tr>\n",
       "      <th>4</th>\n",
       "      <td>terrorist financing</td>\n",
       "      <td>fraud</td>\n",
       "    </tr>\n",
       "    <tr>\n",
       "      <th>5</th>\n",
       "      <td>terrorism</td>\n",
       "      <td>embezzlement</td>\n",
       "    </tr>\n",
       "    <tr>\n",
       "      <th>6</th>\n",
       "      <td>genocide</td>\n",
       "      <td>organized crime</td>\n",
       "    </tr>\n",
       "    <tr>\n",
       "      <th>7</th>\n",
       "      <td>evasion</td>\n",
       "      <td>racketeering</td>\n",
       "    </tr>\n",
       "    <tr>\n",
       "      <th>8</th>\n",
       "      <td>evade</td>\n",
       "      <td>trafficking</td>\n",
       "    </tr>\n",
       "    <tr>\n",
       "      <th>9</th>\n",
       "      <td>enforecement</td>\n",
       "      <td>smuggling</td>\n",
       "    </tr>\n",
       "    <tr>\n",
       "      <th>10</th>\n",
       "      <td>high risk</td>\n",
       "      <td>migrant</td>\n",
       "    </tr>\n",
       "    <tr>\n",
       "      <th>11</th>\n",
       "      <td>economic</td>\n",
       "      <td>organs</td>\n",
       "    </tr>\n",
       "    <tr>\n",
       "      <th>12</th>\n",
       "      <td>trade</td>\n",
       "      <td>sexual exploitation</td>\n",
       "    </tr>\n",
       "    <tr>\n",
       "      <th>13</th>\n",
       "      <td>finance</td>\n",
       "      <td>child pornography</td>\n",
       "    </tr>\n",
       "    <tr>\n",
       "      <th>14</th>\n",
       "      <td>citizen</td>\n",
       "      <td>drugs</td>\n",
       "    </tr>\n",
       "    <tr>\n",
       "      <th>15</th>\n",
       "      <td>tariff</td>\n",
       "      <td>arms</td>\n",
       "    </tr>\n",
       "    <tr>\n",
       "      <th>16</th>\n",
       "      <td>import</td>\n",
       "      <td>explosives</td>\n",
       "    </tr>\n",
       "    <tr>\n",
       "      <th>17</th>\n",
       "      <td>export</td>\n",
       "      <td>radioactive</td>\n",
       "    </tr>\n",
       "    <tr>\n",
       "      <th>18</th>\n",
       "      <td>cuba</td>\n",
       "      <td>counterfeit</td>\n",
       "    </tr>\n",
       "    <tr>\n",
       "      <th>19</th>\n",
       "      <td>north korea</td>\n",
       "      <td>piracy</td>\n",
       "    </tr>\n",
       "    <tr>\n",
       "      <th>20</th>\n",
       "      <td>mali</td>\n",
       "      <td>extortion</td>\n",
       "    </tr>\n",
       "    <tr>\n",
       "      <th>21</th>\n",
       "      <td>libya</td>\n",
       "      <td>investigation</td>\n",
       "    </tr>\n",
       "    <tr>\n",
       "      <th>22</th>\n",
       "      <td>somalia</td>\n",
       "      <td>regulatory</td>\n",
       "    </tr>\n",
       "    <tr>\n",
       "      <th>23</th>\n",
       "      <td>iran</td>\n",
       "      <td>penalty</td>\n",
       "    </tr>\n",
       "    <tr>\n",
       "      <th>24</th>\n",
       "      <td>south sudan</td>\n",
       "      <td>enforcement</td>\n",
       "    </tr>\n",
       "    <tr>\n",
       "      <th>25</th>\n",
       "      <td>syria</td>\n",
       "      <td>action</td>\n",
       "    </tr>\n",
       "    <tr>\n",
       "      <th>26</th>\n",
       "      <td>central african republic</td>\n",
       "      <td>aml</td>\n",
       "    </tr>\n",
       "    <tr>\n",
       "      <th>27</th>\n",
       "      <td>yemen</td>\n",
       "      <td>stolen</td>\n",
       "    </tr>\n",
       "    <tr>\n",
       "      <th>28</th>\n",
       "      <td>guinea-bissau</td>\n",
       "      <td>illegal</td>\n",
       "    </tr>\n",
       "    <tr>\n",
       "      <th>29</th>\n",
       "      <td>libya</td>\n",
       "      <td>corruption</td>\n",
       "    </tr>\n",
       "    <tr>\n",
       "      <th>30</th>\n",
       "      <td>eritrea</td>\n",
       "      <td>bribery</td>\n",
       "    </tr>\n",
       "    <tr>\n",
       "      <th>31</th>\n",
       "      <td>lebanon</td>\n",
       "      <td>trading</td>\n",
       "    </tr>\n",
       "    <tr>\n",
       "      <th>32</th>\n",
       "      <td>al qaida</td>\n",
       "      <td>trade</td>\n",
       "    </tr>\n",
       "    <tr>\n",
       "      <th>33</th>\n",
       "      <td>taliban</td>\n",
       "      <td>identification</td>\n",
       "    </tr>\n",
       "    <tr>\n",
       "      <th>34</th>\n",
       "      <td>congo</td>\n",
       "      <td>atm</td>\n",
       "    </tr>\n",
       "    <tr>\n",
       "      <th>35</th>\n",
       "      <td>kimberley process</td>\n",
       "      <td>credit</td>\n",
       "    </tr>\n",
       "    <tr>\n",
       "      <th>36</th>\n",
       "      <td>sudan</td>\n",
       "      <td>forgery</td>\n",
       "    </tr>\n",
       "    <tr>\n",
       "      <th>37</th>\n",
       "      <td>iraq</td>\n",
       "      <td>unethical</td>\n",
       "    </tr>\n",
       "    <tr>\n",
       "      <th>38</th>\n",
       "      <td>pep</td>\n",
       "      <td>predicate</td>\n",
       "    </tr>\n",
       "    <tr>\n",
       "      <th>39</th>\n",
       "      <td>politician</td>\n",
       "      <td>environmental</td>\n",
       "    </tr>\n",
       "    <tr>\n",
       "      <th>40</th>\n",
       "      <td>state</td>\n",
       "      <td>trafficking</td>\n",
       "    </tr>\n",
       "    <tr>\n",
       "      <th>41</th>\n",
       "      <td>politics</td>\n",
       "      <td>domestic</td>\n",
       "    </tr>\n",
       "    <tr>\n",
       "      <th>42</th>\n",
       "      <td>vote</td>\n",
       "      <td>judgment</td>\n",
       "    </tr>\n",
       "    <tr>\n",
       "      <th>43</th>\n",
       "      <td>NaN</td>\n",
       "      <td>lien</td>\n",
       "    </tr>\n",
       "    <tr>\n",
       "      <th>44</th>\n",
       "      <td>NaN</td>\n",
       "      <td>bankruptcy</td>\n",
       "    </tr>\n",
       "  </tbody>\n",
       "</table>\n",
       "</div>"
      ],
      "text/plain": [
       "             Sanctions terms Financial Crimes words\n",
       "0                  sanctions              financial\n",
       "1                    embargo                finance\n",
       "2                 war crimes                  crime\n",
       "3                  terrorist       money laundering\n",
       "4        terrorist financing                  fraud\n",
       "5                  terrorism           embezzlement\n",
       "6                   genocide        organized crime\n",
       "7                    evasion           racketeering\n",
       "8                      evade            trafficking\n",
       "9               enforecement              smuggling\n",
       "10                 high risk                migrant\n",
       "11                  economic                 organs\n",
       "12                     trade    sexual exploitation\n",
       "13                   finance      child pornography\n",
       "14                   citizen                  drugs\n",
       "15                    tariff                   arms\n",
       "16                    import             explosives\n",
       "17                    export            radioactive\n",
       "18                      cuba            counterfeit\n",
       "19               north korea                 piracy\n",
       "20                      mali              extortion\n",
       "21                     libya          investigation\n",
       "22                   somalia             regulatory\n",
       "23                      iran                penalty\n",
       "24               south sudan            enforcement\n",
       "25                     syria                 action\n",
       "26  central african republic                    aml\n",
       "27                     yemen                 stolen\n",
       "28             guinea-bissau                illegal\n",
       "29                     libya             corruption\n",
       "30                   eritrea                bribery\n",
       "31                   lebanon                trading\n",
       "32                  al qaida                  trade\n",
       "33                   taliban         identification\n",
       "34                     congo                    atm\n",
       "35         kimberley process                 credit\n",
       "36                     sudan                forgery\n",
       "37                      iraq              unethical\n",
       "38                       pep              predicate\n",
       "39                politician          environmental\n",
       "40                     state            trafficking\n",
       "41                  politics               domestic\n",
       "42                      vote               judgment\n",
       "43                       NaN                   lien\n",
       "44                       NaN             bankruptcy"
      ]
     },
     "execution_count": 7,
     "metadata": {},
     "output_type": "execute_result"
    }
   ],
   "source": [
    "import pandas as pd\n",
    "stopword = pd.read_excel(\"stopword.xls\")\n",
    "stopword['Sanctions terms']= stopword['Sanctions terms'].str.lower()\n",
    "stopword['Financial Crimes words']= stopword['Financial Crimes words'].str.lower()\n",
    "stopword"
   ]
  },
  {
   "cell_type": "code",
   "execution_count": 8,
   "metadata": {},
   "outputs": [
    {
     "data": {
      "text/plain": [
       "['sanctions',\n",
       " 'embargo',\n",
       " 'war crimes',\n",
       " 'terrorist',\n",
       " 'terrorist financing',\n",
       " 'terrorism',\n",
       " 'genocide',\n",
       " 'evasion',\n",
       " 'evade',\n",
       " 'enforecement',\n",
       " 'high risk',\n",
       " 'economic',\n",
       " 'trade',\n",
       " 'finance',\n",
       " 'citizen',\n",
       " 'tariff',\n",
       " 'import',\n",
       " 'export',\n",
       " 'cuba',\n",
       " 'north korea',\n",
       " 'mali',\n",
       " 'libya',\n",
       " 'somalia',\n",
       " 'iran',\n",
       " 'south sudan',\n",
       " 'syria',\n",
       " 'central african republic',\n",
       " 'yemen',\n",
       " 'guinea-bissau',\n",
       " 'libya',\n",
       " 'eritrea',\n",
       " 'lebanon',\n",
       " 'al qaida',\n",
       " 'taliban',\n",
       " 'congo',\n",
       " 'kimberley process',\n",
       " 'sudan',\n",
       " 'iraq',\n",
       " 'pep',\n",
       " 'politician',\n",
       " 'state',\n",
       " 'politics',\n",
       " 'vote']"
      ]
     },
     "execution_count": 8,
     "metadata": {},
     "output_type": "execute_result"
    }
   ],
   "source": [
    "Sanctions_terms=stopword['Sanctions terms'].values.tolist()\n",
    "Sanctions_terms.pop()   # remove the last word 'NaN'\n",
    "Sanctions_terms.pop()   # remove the last word 'NaN'\n",
    "Sanctions_terms"
   ]
  },
  {
   "cell_type": "code",
   "execution_count": 9,
   "metadata": {},
   "outputs": [
    {
     "data": {
      "text/plain": [
       "['financial',\n",
       " 'finance',\n",
       " 'crime',\n",
       " 'money laundering',\n",
       " 'fraud',\n",
       " 'embezzlement',\n",
       " 'organized crime',\n",
       " 'racketeering',\n",
       " 'trafficking',\n",
       " 'smuggling',\n",
       " 'migrant',\n",
       " 'organs',\n",
       " 'sexual exploitation',\n",
       " 'child pornography',\n",
       " 'drugs',\n",
       " 'arms',\n",
       " 'explosives',\n",
       " 'radioactive',\n",
       " 'counterfeit',\n",
       " 'piracy',\n",
       " 'extortion',\n",
       " 'investigation',\n",
       " 'regulatory',\n",
       " 'penalty',\n",
       " 'enforcement',\n",
       " 'action',\n",
       " 'aml',\n",
       " 'stolen',\n",
       " 'illegal',\n",
       " 'corruption',\n",
       " 'bribery',\n",
       " 'trading',\n",
       " 'trade',\n",
       " 'identification',\n",
       " 'atm',\n",
       " 'credit',\n",
       " 'forgery',\n",
       " 'unethical',\n",
       " 'predicate',\n",
       " 'environmental',\n",
       " 'trafficking',\n",
       " 'domestic',\n",
       " 'judgment',\n",
       " 'lien',\n",
       " 'bankruptcy']"
      ]
     },
     "execution_count": 9,
     "metadata": {},
     "output_type": "execute_result"
    }
   ],
   "source": [
    "Financial_Crimes=stopword['Financial Crimes words'].values.tolist()\n",
    "Financial_Crimes"
   ]
  },
  {
   "cell_type": "markdown",
   "metadata": {},
   "source": [
    "#### sanction part stopword hit"
   ]
  },
  {
   "cell_type": "code",
   "execution_count": 23,
   "metadata": {},
   "outputs": [
    {
     "name": "stdout",
     "output_type": "stream",
     "text": [
      "taliban      1\n",
      "terrorism    1\n",
      "dtype: int64\n"
     ]
    }
   ],
   "source": [
    "sanction = []     #empty list\n",
    "\n",
    "#word group hit\n",
    "for i in range(len(text)-1):\n",
    "    if text[i] + \" \"+ text[i+1] in Sanctions_terms:\n",
    "        sanction.append(text[i]+ \" \" + text[i+1])\n",
    "#single word hit        \n",
    "for word1 in text:\n",
    "    if word1 in Sanctions_terms:\n",
    "        sanction.append(word1)\n",
    "#result        \n",
    "if len(sanction) == 0:\n",
    "    print('No matches')\n",
    "else:\n",
    "    print(pd.value_counts(sanction))"
   ]
  },
  {
   "cell_type": "markdown",
   "metadata": {},
   "source": [
    "##### financial part stopword hit"
   ]
  },
  {
   "cell_type": "code",
   "execution_count": 21,
   "metadata": {},
   "outputs": [
    {
     "name": "stdout",
     "output_type": "stream",
     "text": [
      "money laundering    3\n",
      "enforcement         2\n",
      "crime               1\n",
      "fraud               1\n",
      "financial           1\n",
      "dtype: int64\n"
     ]
    }
   ],
   "source": [
    "financial = []     #empty list\n",
    "\n",
    "#word group hit\n",
    "for i in range(len(text)-1):\n",
    "    if text[i]+ \" \" + text[i+1] in Financial_Crimes:\n",
    "        financial.append(text[i]+ \" \" + text[i+1])\n",
    "\n",
    "#single word hit\n",
    "for word2 in text:\n",
    "    if word2 in Financial_Crimes:\n",
    "        financial.append(word2)\n",
    "#result              \n",
    "if len(financial) == 0:\n",
    "    print('No matches')\n",
    "else:\n",
    "    print(pd.value_counts(financial))"
   ]
  },
  {
   "cell_type": "markdown",
   "metadata": {},
   "source": [
    "###### how many words appear in sanction part and financial part [in total]"
   ]
  },
  {
   "cell_type": "code",
   "execution_count": 19,
   "metadata": {},
   "outputs": [
    {
     "name": "stdout",
     "output_type": "stream",
     "text": [
      "Sanction words 2\n",
      "Financial words 8\n"
     ]
    }
   ],
   "source": [
    "print(\"Sanction words \" + str(len(sanction)))\n",
    "print(\"Financial words \" + str(len(financial)))"
   ]
  },
  {
   "cell_type": "markdown",
   "metadata": {},
   "source": [
    "### NLP sentiment analysis"
   ]
  },
  {
   "cell_type": "code",
   "execution_count": 24,
   "metadata": {},
   "outputs": [
    {
     "name": "stdout",
     "output_type": "stream",
     "text": [
      "Requirement already satisfied: SnowNLP in /Users/huangansheng/opt/anaconda3/lib/python3.7/site-packages (0.12.3)\r\n"
     ]
    }
   ],
   "source": [
    "!pip install SnowNLP"
   ]
  },
  {
   "cell_type": "code",
   "execution_count": 25,
   "metadata": {},
   "outputs": [
    {
     "name": "stdout",
     "output_type": "stream",
     "text": [
      "The positive percentage of the text is 8.991252187229293e-12\n"
     ]
    }
   ],
   "source": [
    "from snownlp import SnowNLP\n",
    "s = SnowNLP(a.text)\n",
    "print(\"The positive percentage of the text is \" + str(s.sentiments))"
   ]
  },
  {
   "cell_type": "code",
   "execution_count": 26,
   "metadata": {},
   "outputs": [
    {
     "name": "stdout",
     "output_type": "stream",
     "text": [
      "negative\n"
     ]
    }
   ],
   "source": [
    "if s.sentiments>0.5:\n",
    "    print(\"positive\")\n",
    "else:\n",
    "    print(\"negative\")"
   ]
  },
  {
   "cell_type": "code",
   "execution_count": null,
   "metadata": {},
   "outputs": [],
   "source": []
  }
 ],
 "metadata": {
  "kernelspec": {
   "display_name": "Python 3",
   "language": "python",
   "name": "python3"
  },
  "language_info": {
   "codemirror_mode": {
    "name": "ipython",
    "version": 3
   },
   "file_extension": ".py",
   "mimetype": "text/x-python",
   "name": "python",
   "nbconvert_exporter": "python",
   "pygments_lexer": "ipython3",
   "version": "3.7.6"
  }
 },
 "nbformat": 4,
 "nbformat_minor": 4
}
